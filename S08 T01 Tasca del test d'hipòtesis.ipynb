{
 "cells": [
  {
   "cell_type": "markdown",
   "metadata": {},
   "source": [
    "**Kaggle link:** https://www.kaggle.com/mirichoi0218/insurance"
   ]
  },
  {
   "cell_type": "markdown",
   "metadata": {},
   "source": [
    "# **DATA SCIENCE ITINERARY - IT ACADEMY**"
   ]
  },
  {
   "cell_type": "markdown",
   "metadata": {},
   "source": [
    "# <center><b><u>Sprint 8. Hypothesis Testing</u></b><center>"
   ]
  },
  {
   "cell_type": "markdown",
   "metadata": {},
   "source": [
    "## **DATASET INFORMATION**\n",
    "\n",
    "+ **age:** age of primary beneficiary\n",
    "\n",
    "+ **sex:** insurance contractor gender, female, male\n",
    "\n",
    "+ **BMI:** Body mass index, providing an understanding of body, weights that are relatively high or low relative to height, objective index of body weight (kg / m ^ 2) using the ratio of height to weight, ideally 18.5 to 24.9\n",
    "\n",
    "+ **children:** Number of children covered by health insurance / Number of dependents\n",
    "\n",
    "+ **smoker:** Smoking\n",
    "\n",
    "+ **region:** the beneficiary's residential area in the US, northeast, southeast, southwest, northwest.\n",
    "\n",
    "+ **charges:** Individual medical costs billed by health insurance"
   ]
  },
  {
   "cell_type": "code",
   "execution_count": 1413,
   "metadata": {},
   "outputs": [],
   "source": [
    "# Libraries\n",
    "\n",
    "import numpy as np\n",
    "import pandas as pd\n",
    "import matplotlib.pyplot as plt\n",
    "import seaborn as sns\n",
    "from scipy.stats import shapiro\n",
    "from scipy.stats import ttest_1samp,ttest_ind, ttest_ind, f_oneway\n",
    "from statsmodels.stats.multicomp import pairwise_tukeyhsd"
   ]
  },
  {
   "cell_type": "code",
   "execution_count": 1373,
   "metadata": {},
   "outputs": [
    {
     "data": {
      "text/html": [
       "<div>\n",
       "<style scoped>\n",
       "    .dataframe tbody tr th:only-of-type {\n",
       "        vertical-align: middle;\n",
       "    }\n",
       "\n",
       "    .dataframe tbody tr th {\n",
       "        vertical-align: top;\n",
       "    }\n",
       "\n",
       "    .dataframe thead th {\n",
       "        text-align: right;\n",
       "    }\n",
       "</style>\n",
       "<table border=\"1\" class=\"dataframe\">\n",
       "  <thead>\n",
       "    <tr style=\"text-align: right;\">\n",
       "      <th></th>\n",
       "      <th>age</th>\n",
       "      <th>sex</th>\n",
       "      <th>bmi</th>\n",
       "      <th>children</th>\n",
       "      <th>smoker</th>\n",
       "      <th>region</th>\n",
       "      <th>charges</th>\n",
       "    </tr>\n",
       "  </thead>\n",
       "  <tbody>\n",
       "    <tr>\n",
       "      <th>0</th>\n",
       "      <td>19</td>\n",
       "      <td>female</td>\n",
       "      <td>27.900</td>\n",
       "      <td>0</td>\n",
       "      <td>yes</td>\n",
       "      <td>southwest</td>\n",
       "      <td>16884.92400</td>\n",
       "    </tr>\n",
       "    <tr>\n",
       "      <th>1</th>\n",
       "      <td>18</td>\n",
       "      <td>male</td>\n",
       "      <td>33.770</td>\n",
       "      <td>1</td>\n",
       "      <td>no</td>\n",
       "      <td>southeast</td>\n",
       "      <td>1725.55230</td>\n",
       "    </tr>\n",
       "    <tr>\n",
       "      <th>2</th>\n",
       "      <td>28</td>\n",
       "      <td>male</td>\n",
       "      <td>33.000</td>\n",
       "      <td>3</td>\n",
       "      <td>no</td>\n",
       "      <td>southeast</td>\n",
       "      <td>4449.46200</td>\n",
       "    </tr>\n",
       "    <tr>\n",
       "      <th>3</th>\n",
       "      <td>33</td>\n",
       "      <td>male</td>\n",
       "      <td>22.705</td>\n",
       "      <td>0</td>\n",
       "      <td>no</td>\n",
       "      <td>northwest</td>\n",
       "      <td>21984.47061</td>\n",
       "    </tr>\n",
       "    <tr>\n",
       "      <th>4</th>\n",
       "      <td>32</td>\n",
       "      <td>male</td>\n",
       "      <td>28.880</td>\n",
       "      <td>0</td>\n",
       "      <td>no</td>\n",
       "      <td>northwest</td>\n",
       "      <td>3866.85520</td>\n",
       "    </tr>\n",
       "  </tbody>\n",
       "</table>\n",
       "</div>"
      ],
      "text/plain": [
       "   age     sex     bmi  children smoker     region      charges\n",
       "0   19  female  27.900         0    yes  southwest  16884.92400\n",
       "1   18    male  33.770         1     no  southeast   1725.55230\n",
       "2   28    male  33.000         3     no  southeast   4449.46200\n",
       "3   33    male  22.705         0     no  northwest  21984.47061\n",
       "4   32    male  28.880         0     no  northwest   3866.85520"
      ]
     },
     "execution_count": 1373,
     "metadata": {},
     "output_type": "execute_result"
    }
   ],
   "source": [
    "# Dataset\n",
    "\n",
    "medical_cost = pd.read_csv('/Users/adrianova/Desktop/Data Science/Python/IT Academy - Python/SPRINT 8 - Tasca del test d\\'hipòtesis/Practise/data/medical_cost_personal.csv')\n",
    "medical_cost.head()"
   ]
  },
  {
   "cell_type": "code",
   "execution_count": 1374,
   "metadata": {},
   "outputs": [
    {
     "name": "stdout",
     "output_type": "stream",
     "text": [
      "['southwest' 'southeast' 'northwest' 'northeast']\n",
      "[0 1 2 3 4 5]\n"
     ]
    }
   ],
   "source": [
    "# Types of region\n",
    "print(medical_cost.region.unique())\n",
    "print(medical_cost.children.sort_values().unique())"
   ]
  },
  {
   "cell_type": "code",
   "execution_count": 1375,
   "metadata": {},
   "outputs": [
    {
     "data": {
      "text/plain": [
       "(1338, 7)"
      ]
     },
     "execution_count": 1375,
     "metadata": {},
     "output_type": "execute_result"
    }
   ],
   "source": [
    "# Shape. 1338 rows and 7 columns\n",
    "medical_cost.shape"
   ]
  },
  {
   "cell_type": "markdown",
   "metadata": {},
   "source": [
    "Maybe this dataset don't have a large amount of observations but we can achieve our objective"
   ]
  },
  {
   "cell_type": "code",
   "execution_count": 1376,
   "metadata": {},
   "outputs": [
    {
     "data": {
      "text/plain": [
       "9366"
      ]
     },
     "execution_count": 1376,
     "metadata": {},
     "output_type": "execute_result"
    }
   ],
   "source": [
    "# Total elements in our Dataset\n",
    "medical_cost.size"
   ]
  },
  {
   "cell_type": "code",
   "execution_count": 1377,
   "metadata": {},
   "outputs": [
    {
     "name": "stdout",
     "output_type": "stream",
     "text": [
      "<class 'pandas.core.frame.DataFrame'>\n",
      "RangeIndex: 1338 entries, 0 to 1337\n",
      "Data columns (total 7 columns):\n",
      " #   Column    Non-Null Count  Dtype  \n",
      "---  ------    --------------  -----  \n",
      " 0   age       1338 non-null   int64  \n",
      " 1   sex       1338 non-null   object \n",
      " 2   bmi       1338 non-null   float64\n",
      " 3   children  1338 non-null   int64  \n",
      " 4   smoker    1338 non-null   object \n",
      " 5   region    1338 non-null   object \n",
      " 6   charges   1338 non-null   float64\n",
      "dtypes: float64(2), int64(2), object(3)\n",
      "memory usage: 73.3+ KB\n"
     ]
    }
   ],
   "source": [
    "# Variable information\n",
    "medical_cost.info()"
   ]
  },
  {
   "cell_type": "code",
   "execution_count": 1378,
   "metadata": {},
   "outputs": [
    {
     "data": {
      "text/html": [
       "<div>\n",
       "<style scoped>\n",
       "    .dataframe tbody tr th:only-of-type {\n",
       "        vertical-align: middle;\n",
       "    }\n",
       "\n",
       "    .dataframe tbody tr th {\n",
       "        vertical-align: top;\n",
       "    }\n",
       "\n",
       "    .dataframe thead th {\n",
       "        text-align: right;\n",
       "    }\n",
       "</style>\n",
       "<table border=\"1\" class=\"dataframe\">\n",
       "  <thead>\n",
       "    <tr style=\"text-align: right;\">\n",
       "      <th></th>\n",
       "      <th>age</th>\n",
       "      <th>bmi</th>\n",
       "      <th>children</th>\n",
       "      <th>charges</th>\n",
       "    </tr>\n",
       "  </thead>\n",
       "  <tbody>\n",
       "    <tr>\n",
       "      <th>count</th>\n",
       "      <td>1338.00</td>\n",
       "      <td>1338.00</td>\n",
       "      <td>1338.00</td>\n",
       "      <td>1338.00</td>\n",
       "    </tr>\n",
       "    <tr>\n",
       "      <th>mean</th>\n",
       "      <td>39.21</td>\n",
       "      <td>30.66</td>\n",
       "      <td>1.09</td>\n",
       "      <td>13270.42</td>\n",
       "    </tr>\n",
       "    <tr>\n",
       "      <th>std</th>\n",
       "      <td>14.05</td>\n",
       "      <td>6.10</td>\n",
       "      <td>1.21</td>\n",
       "      <td>12110.01</td>\n",
       "    </tr>\n",
       "    <tr>\n",
       "      <th>min</th>\n",
       "      <td>18.00</td>\n",
       "      <td>15.96</td>\n",
       "      <td>0.00</td>\n",
       "      <td>1121.87</td>\n",
       "    </tr>\n",
       "    <tr>\n",
       "      <th>25%</th>\n",
       "      <td>27.00</td>\n",
       "      <td>26.30</td>\n",
       "      <td>0.00</td>\n",
       "      <td>4740.29</td>\n",
       "    </tr>\n",
       "    <tr>\n",
       "      <th>50%</th>\n",
       "      <td>39.00</td>\n",
       "      <td>30.40</td>\n",
       "      <td>1.00</td>\n",
       "      <td>9382.03</td>\n",
       "    </tr>\n",
       "    <tr>\n",
       "      <th>75%</th>\n",
       "      <td>51.00</td>\n",
       "      <td>34.69</td>\n",
       "      <td>2.00</td>\n",
       "      <td>16639.91</td>\n",
       "    </tr>\n",
       "    <tr>\n",
       "      <th>max</th>\n",
       "      <td>64.00</td>\n",
       "      <td>53.13</td>\n",
       "      <td>5.00</td>\n",
       "      <td>63770.43</td>\n",
       "    </tr>\n",
       "  </tbody>\n",
       "</table>\n",
       "</div>"
      ],
      "text/plain": [
       "           age      bmi  children   charges\n",
       "count  1338.00  1338.00   1338.00   1338.00\n",
       "mean     39.21    30.66      1.09  13270.42\n",
       "std      14.05     6.10      1.21  12110.01\n",
       "min      18.00    15.96      0.00   1121.87\n",
       "25%      27.00    26.30      0.00   4740.29\n",
       "50%      39.00    30.40      1.00   9382.03\n",
       "75%      51.00    34.69      2.00  16639.91\n",
       "max      64.00    53.13      5.00  63770.43"
      ]
     },
     "execution_count": 1378,
     "metadata": {},
     "output_type": "execute_result"
    }
   ],
   "source": [
    "# Variables description\n",
    "medical_cost.describe().round(2)"
   ]
  },
  {
   "cell_type": "markdown",
   "metadata": {},
   "source": [
    "**Age**\n",
    "\n",
    "    + The average age of the people with health insurance in our data set is 39 years, with the minimum age being 18 years and the maximum age 64 years. 25% of the observations are 27 years old or younger, while 75% of the observations are 51 years old or younger. The median age is 39 years, coinciding with the mean.\n",
    "\n",
    "**BMI**\n",
    "\n",
    "    + The average BMI of people with health insurance in our data set is 30.66 (kg / m ^ 2), with the minimum BMI of 15.96 (kg / m ^ 2) and the maximum BMI of 53 , 13 (kg / m ^ 2). 25% of the observations have a BMI of 26.30 (kg / m ^ 2) or less, while 75% of the observations have a BMI of 34.69 (kg / m ^ 2) or less. The median BMI is at 30.40 (kg / m ^ 2), very close to the average.\n",
    "\n",
    "**Children**\n",
    "\n",
    "    + The average number of children of people with health insurance in our data set is 1 child, with the minimum number of children being 0 and the maximum number of children being 5 children. 25% of the observations have 0 children, while 75% of the observations have 2 children or less. The median of children is found in 1 child coinciding with the mean.\n",
    "\n",
    "**Charges**\n",
    "\n",
    "    + The average bill of people with health insurance in our data set is $ 13,270, with the minimum bill being $ 1,121 and the maximum bill $ 63,770. 25% of the observations have a bill of $ 4,740 or less, while 75% of the observations have a bill of $ 16,639 or less. The median bill is $ 9,382, far from the average."
   ]
  },
  {
   "cell_type": "code",
   "execution_count": 1379,
   "metadata": {},
   "outputs": [
    {
     "data": {
      "text/plain": [
       "age         0.0\n",
       "sex         0.0\n",
       "bmi         0.0\n",
       "children    0.0\n",
       "smoker      0.0\n",
       "region      0.0\n",
       "charges     0.0\n",
       "dtype: float64"
      ]
     },
     "execution_count": 1379,
     "metadata": {},
     "output_type": "execute_result"
    }
   ],
   "source": [
    "# Missings. We don't have missing observations\n",
    "\n",
    "missings = medical_cost.isna().sum()/len(medical_cost)*100\n",
    "missings"
   ]
  },
  {
   "cell_type": "code",
   "execution_count": 1380,
   "metadata": {},
   "outputs": [
    {
     "data": {
      "image/png": "[encoded data removed]",
      "text/plain": [
       "<Figure size 1080x720 with 4 Axes>"
      ]
     },
     "metadata": {
      "needs_background": "light"
     },
     "output_type": "display_data"
    }
   ],
   "source": [
    "# Distribution of variable Age, BMI, Children and Charges\n",
    "\n",
    "# Figure Structure\n",
    "fig = plt.figure(figsize=(15,10))\n",
    "\n",
    "# First plot\n",
    "ax1 = fig.add_subplot(2,2,1)\n",
    "ax1 = sns.histplot( x = 'age', data = medical_cost, kde=True, color = 'olive')\n",
    "plt.title('Distribution of Primary Beneficiary Age', fontsize = 15)   \n",
    "plt.xlabel('Age')   \n",
    "plt.ylabel('Frequency')        \n",
    "\n",
    "# Second plot\n",
    "ax1 = fig.add_subplot(2,2,2)\n",
    "ax1 = sns.histplot( x = 'bmi', data = medical_cost, kde=True, color = 'red')\n",
    "plt.title('Distribution of Body Mass Index', fontsize = 15)   \n",
    "plt.xlabel('BMI')   \n",
    "plt.ylabel('Frequency')  \n",
    "\n",
    "# Third plot\n",
    "ax1 = fig.add_subplot(2,2,3)\n",
    "ax1 = sns.histplot( x = 'children', data = medical_cost, kde=True, color = 'cyan')\n",
    "plt.title('Distribution of Number of children', fontsize = 15)   \n",
    "plt.xlabel('Children')   \n",
    "plt.ylabel('Frequency') \n",
    "\n",
    "# Forth plot (log(charges))\n",
    "ax1 = fig.add_subplot(2,2,4)\n",
    "ax1 = sns.histplot( x = np.log(medical_cost.charges), data = medical_cost, kde=True, color = 'violet')\n",
    "plt.title('Distribution of Individual medical costs billed by health insurance', fontsize = 15)   \n",
    "plt.xlabel('Charges')   \n",
    "plt.ylabel('Frequency') \n",
    "\n",
    "plt.tight_layout()\n",
    "plt.show()"
   ]
  },
  {
   "cell_type": "code",
   "execution_count": 1381,
   "metadata": {},
   "outputs": [
    {
     "data": {
      "text/html": [
       "<style  type=\"text/css\" >\n",
       "#T_e9b98_row0_col0,#T_e9b98_row1_col1,#T_e9b98_row2_col2,#T_e9b98_row3_col3{\n",
       "            background-color:  #00441b;\n",
       "            color:  #f1f1f1;\n",
       "        }#T_e9b98_row0_col1{\n",
       "            background-color:  #e9f7e5;\n",
       "            color:  #000000;\n",
       "        }#T_e9b98_row0_col2{\n",
       "            background-color:  #f3faf0;\n",
       "            color:  #000000;\n",
       "        }#T_e9b98_row0_col3{\n",
       "            background-color:  #c8e9c1;\n",
       "            color:  #000000;\n",
       "        }#T_e9b98_row1_col0{\n",
       "            background-color:  #edf8ea;\n",
       "            color:  #000000;\n",
       "        }#T_e9b98_row1_col2,#T_e9b98_row2_col0,#T_e9b98_row2_col1,#T_e9b98_row2_col3{\n",
       "            background-color:  #f7fcf5;\n",
       "            color:  #000000;\n",
       "        }#T_e9b98_row1_col3{\n",
       "            background-color:  #e2f4dd;\n",
       "            color:  #000000;\n",
       "        }#T_e9b98_row3_col0{\n",
       "            background-color:  #c2e7bb;\n",
       "            color:  #000000;\n",
       "        }#T_e9b98_row3_col1{\n",
       "            background-color:  #d6efd0;\n",
       "            color:  #000000;\n",
       "        }#T_e9b98_row3_col2{\n",
       "            background-color:  #eff9ec;\n",
       "            color:  #000000;\n",
       "        }</style><table id=\"T_e9b98_\" ><thead>    <tr>        <th class=\"blank level0\" ></th>        <th class=\"col_heading level0 col0\" >age</th>        <th class=\"col_heading level0 col1\" >bmi</th>        <th class=\"col_heading level0 col2\" >children</th>        <th class=\"col_heading level0 col3\" >charges</th>    </tr></thead><tbody>\n",
       "                <tr>\n",
       "                        <th id=\"T_e9b98_level0_row0\" class=\"row_heading level0 row0\" >age</th>\n",
       "                        <td id=\"T_e9b98_row0_col0\" class=\"data row0 col0\" >1.000000</td>\n",
       "                        <td id=\"T_e9b98_row0_col1\" class=\"data row0 col1\" >0.109272</td>\n",
       "                        <td id=\"T_e9b98_row0_col2\" class=\"data row0 col2\" >0.042469</td>\n",
       "                        <td id=\"T_e9b98_row0_col3\" class=\"data row0 col3\" >0.299008</td>\n",
       "            </tr>\n",
       "            <tr>\n",
       "                        <th id=\"T_e9b98_level0_row1\" class=\"row_heading level0 row1\" >bmi</th>\n",
       "                        <td id=\"T_e9b98_row1_col0\" class=\"data row1 col0\" >0.109272</td>\n",
       "                        <td id=\"T_e9b98_row1_col1\" class=\"data row1 col1\" >1.000000</td>\n",
       "                        <td id=\"T_e9b98_row1_col2\" class=\"data row1 col2\" >0.012759</td>\n",
       "                        <td id=\"T_e9b98_row1_col3\" class=\"data row1 col3\" >0.198341</td>\n",
       "            </tr>\n",
       "            <tr>\n",
       "                        <th id=\"T_e9b98_level0_row2\" class=\"row_heading level0 row2\" >children</th>\n",
       "                        <td id=\"T_e9b98_row2_col0\" class=\"data row2 col0\" >0.042469</td>\n",
       "                        <td id=\"T_e9b98_row2_col1\" class=\"data row2 col1\" >0.012759</td>\n",
       "                        <td id=\"T_e9b98_row2_col2\" class=\"data row2 col2\" >1.000000</td>\n",
       "                        <td id=\"T_e9b98_row2_col3\" class=\"data row2 col3\" >0.067998</td>\n",
       "            </tr>\n",
       "            <tr>\n",
       "                        <th id=\"T_e9b98_level0_row3\" class=\"row_heading level0 row3\" >charges</th>\n",
       "                        <td id=\"T_e9b98_row3_col0\" class=\"data row3 col0\" >0.299008</td>\n",
       "                        <td id=\"T_e9b98_row3_col1\" class=\"data row3 col1\" >0.198341</td>\n",
       "                        <td id=\"T_e9b98_row3_col2\" class=\"data row3 col2\" >0.067998</td>\n",
       "                        <td id=\"T_e9b98_row3_col3\" class=\"data row3 col3\" >1.000000</td>\n",
       "            </tr>\n",
       "    </tbody></table>"
      ],
      "text/plain": [
       "<pandas.io.formats.style.Styler at 0x7fdfc61f7eb0>"
      ]
     },
     "execution_count": 1381,
     "metadata": {},
     "output_type": "execute_result"
    }
   ],
   "source": [
    "# Numeric Correlation\n",
    "\n",
    "medical_cost[['age','bmi','children','charges']].corr().style.background_gradient(cmap=\"Greens\")"
   ]
  },
  {
   "cell_type": "markdown",
   "metadata": {},
   "source": [
    "We can see how the correlation between variables is very soft"
   ]
  },
  {
   "cell_type": "markdown",
   "metadata": {},
   "source": [
    "## **EXERCISE 1**\n",
    "\n",
    "**STATEMENT:** Grab a sports theme dataset you like and select an attribute from the dataset. Calculate the p-value and say if you reject the null hypothesis by taking a 5% alpha. "
   ]
  },
  {
   "cell_type": "markdown",
   "metadata": {},
   "source": [
    "### **FIRST OPTION**\n",
    "\n",
    "      + We want to see if the distribution of medical costs for each citizen in the sample presents a Normal Distribution\n",
    "\n",
    "+ $\\:H_0\\:$: The sample has a Gaussian distribution\n",
    "\n",
    "+ $\\:H_A\\:$: The sample not has a Gaussian distribution\n"
   ]
  },
  {
   "cell_type": "code",
   "execution_count": 1382,
   "metadata": {},
   "outputs": [
    {
     "data": {
      "image/png": "[encoded data removed]",
      "text/plain": [
       "<Figure size 432x288 with 1 Axes>"
      ]
     },
     "metadata": {
      "needs_background": "light"
     },
     "output_type": "display_data"
    },
    {
     "name": "stdout",
     "output_type": "stream",
     "text": [
      "stat = 0.815, p = 0.000\n",
      "Probably NOT Gaussian\n"
     ]
    }
   ],
   "source": [
    "# Shapiro-Wilk Normality Test\n",
    "\n",
    "data = medical_cost.charges \n",
    "\n",
    "# Chart\n",
    "sns.histplot(data, kde=True, color = 'violet')\n",
    "plt.title('Distribution of Individual medical costs billed by health insurance', fontsize = 15)   \n",
    "plt.xlabel('Charges')   \n",
    "plt.ylabel('Frequency') \n",
    "plt.show()\n",
    "\n",
    "# Statistics\n",
    "stat, p = shapiro(data)\n",
    "print(f'stat = %.3f, p = %.3f' %(stat,p))\n",
    "if p > 0.05:\n",
    "    print('Probably Gaussian')\n",
    "else: \n",
    "    print('Probably NOT Gaussian')"
   ]
  },
  {
   "cell_type": "code",
   "execution_count": 1383,
   "metadata": {},
   "outputs": [
    {
     "name": "stdout",
     "output_type": "stream",
     "text": [
      "the Mean of charges population is: 13270.42\n"
     ]
    }
   ],
   "source": [
    "# Charges Population Mean\n",
    "population_mean =medical_cost.charges.mean() \n",
    "print(f'the Mean of charges population is: %.2f' % (population_mean))"
   ]
  },
  {
   "cell_type": "markdown",
   "metadata": {},
   "source": [
    "    + The medical costs paid by citizens do NOT follow a Normal Distribution, we want to see if applying the mean to a given set of samples and making a distribution we get closer to the true mean and it coincides with the original data.\n",
    "\n"
   ]
  },
  {
   "cell_type": "code",
   "execution_count": 1384,
   "metadata": {},
   "outputs": [
    {
     "data": {
      "image/png": "[encoded data removed]",
      "text/plain": [
       "<Figure size 432x288 with 1 Axes>"
      ]
     },
     "metadata": {
      "needs_background": "light"
     },
     "output_type": "display_data"
    }
   ],
   "source": [
    "# Distribution of Sample Means\n",
    "\n",
    "means_charges = []\n",
    "\n",
    "for i in range(7000):\n",
    "    charges_sample = medical_cost.charges.sample(n=500, replace=True)\n",
    "    means_charges.append(charges_sample.mean())\n",
    "\n",
    "# Chart\n",
    "sns.histplot(means_charges, kde=True, color = 'salmon')\n",
    "plt.title('Distribution of Sample Means of Individual Medical Costs', fontsize = 15)  \n",
    "plt.xlabel('Charges')   \n",
    "plt.ylabel('Frequency') \n",
    "plt.show()"
   ]
  },
  {
   "cell_type": "code",
   "execution_count": 1385,
   "metadata": {},
   "outputs": [
    {
     "name": "stdout",
     "output_type": "stream",
     "text": [
      "the Mean of charges population is: 13266.56\n"
     ]
    }
   ],
   "source": [
    "# Mean of Charges Sample Means \n",
    "print(f'the Mean of charges population is: %.2f' % (np.mean(means_charges)))"
   ]
  },
  {
   "cell_type": "markdown",
   "metadata": {},
   "source": [
    "    + Now I want to check if the mean of the original dataset of the medical cost by citizen is different from the means of the set of sample means. For this we will use the two-sided ttest_1samp (), function for the null hypothesis that the expected value (mean) of a sample of independent observations is equal to the population mean.\n",
    "\n",
    "+ $\\:H_0\\:$: mean of original dataset = mean of sample means\n",
    "\n",
    "+ $\\:H_A\\:$: mean of original dataset $\\neq$ mean of sample means\n",
    "\n"
   ]
  },
  {
   "cell_type": "code",
   "execution_count": 1386,
   "metadata": {},
   "outputs": [
    {
     "name": "stdout",
     "output_type": "stream",
     "text": [
      "stat = -0.590, p = 0.555\n",
      "Not Reject Hypothesis Null (NRH0)\n"
     ]
    }
   ],
   "source": [
    "# Statistics\n",
    "data = ttest_1samp(a = means_charges, popmean= population_mean)\n",
    "print(f'stat = %.3f, p = %.3f' %(data.statistic,data.pvalue))\n",
    "if data.pvalue > 0.05:\n",
    "    print('Not Reject Hypothesis Null (NRH0)')\n",
    "else: \n",
    "    print('Reject Hypothesis Null (RH0)')"
   ]
  },
  {
   "cell_type": "markdown",
   "metadata": {},
   "source": [
    "    + We obtain a p-value of 0.347 that is higher than the significance level that we have chosen of 5% (0.05). Therefore NRH0 and we can conclude that we do not reject the hypothesis that the original mean is equal to the mean of sample means. This result was expected, because when applying the Central Limit Theorem as the number of samples introduced in the distribution grows, it tends to approach the population mean.\n",
    "\n",
    "\n",
    "### **SECOND OPTION**\n",
    "\n",
    "    + Logically, if you are a smoker, you are more likely to trigger a disease. For this reason, I am interested in seeing if smokers pay for private health insurance different from non-smokers.\n",
    "    \n",
    "+ $\\:H_0\\:$: medical cost of smokers = medical cost of non-smokers\n",
    "\n",
    " + $\\:H_A\\:$:medical cost of smokers $\\neq$ medical cost of non-smokers\n",
    "    "
   ]
  },
  {
   "cell_type": "code",
   "execution_count": 1387,
   "metadata": {},
   "outputs": [
    {
     "name": "stdout",
     "output_type": "stream",
     "text": [
      "smoker\n",
      "no     1064\n",
      "yes     274\n",
      "Name: charges, dtype: int64\n",
      "For those who pay the annual medical cost, there are 274 smokers and 1,064 non-smokers\n"
     ]
    }
   ],
   "source": [
    "# Smokers vs No Smokers\n",
    "print(medical_cost.groupby('smoker')['charges'].count())\n",
    "print(f'For those who pay the annual medical cost, there are 274 smokers and 1,064 non-smokers')"
   ]
  },
  {
   "cell_type": "code",
   "execution_count": 1388,
   "metadata": {},
   "outputs": [
    {
     "data": {
      "text/html": [
       "<div>\n",
       "<style scoped>\n",
       "    .dataframe tbody tr th:only-of-type {\n",
       "        vertical-align: middle;\n",
       "    }\n",
       "\n",
       "    .dataframe tbody tr th {\n",
       "        vertical-align: top;\n",
       "    }\n",
       "\n",
       "    .dataframe thead th {\n",
       "        text-align: right;\n",
       "    }\n",
       "</style>\n",
       "<table border=\"1\" class=\"dataframe\">\n",
       "  <thead>\n",
       "    <tr style=\"text-align: right;\">\n",
       "      <th></th>\n",
       "      <th>age</th>\n",
       "      <th>sex</th>\n",
       "      <th>bmi</th>\n",
       "      <th>children</th>\n",
       "      <th>smoker</th>\n",
       "      <th>region</th>\n",
       "      <th>charges</th>\n",
       "    </tr>\n",
       "  </thead>\n",
       "  <tbody>\n",
       "    <tr>\n",
       "      <th>1</th>\n",
       "      <td>18</td>\n",
       "      <td>male</td>\n",
       "      <td>33.770</td>\n",
       "      <td>1</td>\n",
       "      <td>no</td>\n",
       "      <td>southeast</td>\n",
       "      <td>1725.55230</td>\n",
       "    </tr>\n",
       "    <tr>\n",
       "      <th>2</th>\n",
       "      <td>28</td>\n",
       "      <td>male</td>\n",
       "      <td>33.000</td>\n",
       "      <td>3</td>\n",
       "      <td>no</td>\n",
       "      <td>southeast</td>\n",
       "      <td>4449.46200</td>\n",
       "    </tr>\n",
       "    <tr>\n",
       "      <th>3</th>\n",
       "      <td>33</td>\n",
       "      <td>male</td>\n",
       "      <td>22.705</td>\n",
       "      <td>0</td>\n",
       "      <td>no</td>\n",
       "      <td>northwest</td>\n",
       "      <td>21984.47061</td>\n",
       "    </tr>\n",
       "    <tr>\n",
       "      <th>4</th>\n",
       "      <td>32</td>\n",
       "      <td>male</td>\n",
       "      <td>28.880</td>\n",
       "      <td>0</td>\n",
       "      <td>no</td>\n",
       "      <td>northwest</td>\n",
       "      <td>3866.85520</td>\n",
       "    </tr>\n",
       "    <tr>\n",
       "      <th>5</th>\n",
       "      <td>31</td>\n",
       "      <td>female</td>\n",
       "      <td>25.740</td>\n",
       "      <td>0</td>\n",
       "      <td>no</td>\n",
       "      <td>southeast</td>\n",
       "      <td>3756.62160</td>\n",
       "    </tr>\n",
       "  </tbody>\n",
       "</table>\n",
       "</div>"
      ],
      "text/plain": [
       "   age     sex     bmi  children smoker     region      charges\n",
       "1   18    male  33.770         1     no  southeast   1725.55230\n",
       "2   28    male  33.000         3     no  southeast   4449.46200\n",
       "3   33    male  22.705         0     no  northwest  21984.47061\n",
       "4   32    male  28.880         0     no  northwest   3866.85520\n",
       "5   31  female  25.740         0     no  southeast   3756.62160"
      ]
     },
     "execution_count": 1388,
     "metadata": {},
     "output_type": "execute_result"
    }
   ],
   "source": [
    "# Non-Smokers Sample\n",
    "\n",
    "smokers_charges = medical_cost[medical_cost['smoker'] == 'yes'].index\n",
    "non_smokers_charges = medical_cost.drop(smokers_charges)\n",
    "non_smokers_charges.head()"
   ]
  },
  {
   "cell_type": "code",
   "execution_count": 1389,
   "metadata": {},
   "outputs": [
    {
     "name": "stdout",
     "output_type": "stream",
     "text": [
      "Mean medical expenses for non-smokers is 8434.27 dolars\n"
     ]
    }
   ],
   "source": [
    "print(f'Mean medical expenses for non-smokers is %.2f dolars'%(non_smokers_charges.charges.mean()))"
   ]
  },
  {
   "cell_type": "code",
   "execution_count": 1390,
   "metadata": {},
   "outputs": [
    {
     "data": {
      "text/html": [
       "<div>\n",
       "<style scoped>\n",
       "    .dataframe tbody tr th:only-of-type {\n",
       "        vertical-align: middle;\n",
       "    }\n",
       "\n",
       "    .dataframe tbody tr th {\n",
       "        vertical-align: top;\n",
       "    }\n",
       "\n",
       "    .dataframe thead th {\n",
       "        text-align: right;\n",
       "    }\n",
       "</style>\n",
       "<table border=\"1\" class=\"dataframe\">\n",
       "  <thead>\n",
       "    <tr style=\"text-align: right;\">\n",
       "      <th></th>\n",
       "      <th>age</th>\n",
       "      <th>sex</th>\n",
       "      <th>bmi</th>\n",
       "      <th>children</th>\n",
       "      <th>smoker</th>\n",
       "      <th>region</th>\n",
       "      <th>charges</th>\n",
       "    </tr>\n",
       "  </thead>\n",
       "  <tbody>\n",
       "    <tr>\n",
       "      <th>503</th>\n",
       "      <td>19</td>\n",
       "      <td>male</td>\n",
       "      <td>30.250</td>\n",
       "      <td>0</td>\n",
       "      <td>yes</td>\n",
       "      <td>southeast</td>\n",
       "      <td>32548.34050</td>\n",
       "    </tr>\n",
       "    <tr>\n",
       "      <th>64</th>\n",
       "      <td>20</td>\n",
       "      <td>female</td>\n",
       "      <td>22.420</td>\n",
       "      <td>0</td>\n",
       "      <td>yes</td>\n",
       "      <td>northwest</td>\n",
       "      <td>14711.74380</td>\n",
       "    </tr>\n",
       "    <tr>\n",
       "      <th>1230</th>\n",
       "      <td>52</td>\n",
       "      <td>male</td>\n",
       "      <td>34.485</td>\n",
       "      <td>3</td>\n",
       "      <td>yes</td>\n",
       "      <td>northwest</td>\n",
       "      <td>60021.39897</td>\n",
       "    </tr>\n",
       "    <tr>\n",
       "      <th>850</th>\n",
       "      <td>37</td>\n",
       "      <td>female</td>\n",
       "      <td>30.780</td>\n",
       "      <td>0</td>\n",
       "      <td>yes</td>\n",
       "      <td>northeast</td>\n",
       "      <td>37270.15120</td>\n",
       "    </tr>\n",
       "    <tr>\n",
       "      <th>117</th>\n",
       "      <td>29</td>\n",
       "      <td>female</td>\n",
       "      <td>27.940</td>\n",
       "      <td>1</td>\n",
       "      <td>yes</td>\n",
       "      <td>southeast</td>\n",
       "      <td>19107.77960</td>\n",
       "    </tr>\n",
       "  </tbody>\n",
       "</table>\n",
       "</div>"
      ],
      "text/plain": [
       "      age     sex     bmi  children smoker     region      charges\n",
       "503    19    male  30.250         0    yes  southeast  32548.34050\n",
       "64     20  female  22.420         0    yes  northwest  14711.74380\n",
       "1230   52    male  34.485         3    yes  northwest  60021.39897\n",
       "850    37  female  30.780         0    yes  northeast  37270.15120\n",
       "117    29  female  27.940         1    yes  southeast  19107.77960"
      ]
     },
     "execution_count": 1390,
     "metadata": {},
     "output_type": "execute_result"
    }
   ],
   "source": [
    "# Smokers Sample (sample of medical cost for those who smoke)\n",
    "\n",
    "smokers_charges = medical_cost[medical_cost['smoker'] == 'yes'].sample(100)\n",
    "smokers_charges.head()"
   ]
  },
  {
   "cell_type": "code",
   "execution_count": 1391,
   "metadata": {},
   "outputs": [
    {
     "name": "stdout",
     "output_type": "stream",
     "text": [
      "Mean medical expenses for smokers is 32798.70 dolars\n"
     ]
    }
   ],
   "source": [
    "print(f'Mean medical expenses for smokers is %.2f dolars'%(smokers_charges.charges.mean()))"
   ]
  },
  {
   "cell_type": "markdown",
   "metadata": {},
   "source": [
    "    + To check that the means of medical costs between non-smokers and smokers are different we use ttest_ind (). This two-sided test for the null hypothesis that 2 independent samples have equal mean values, assumes that populations have identical variations by default."
   ]
  },
  {
   "cell_type": "code",
   "execution_count": 1392,
   "metadata": {},
   "outputs": [
    {
     "name": "stdout",
     "output_type": "stream",
     "text": [
      "stats: 35.19, p: 0.00\n",
      "Reject Hypothesis Null (RH0)\n"
     ]
    }
   ],
   "source": [
    "# Statistics\n",
    "stats, p = ttest_ind(smokers_charges['charges'], non_smokers_charges['charges'])\n",
    "print(f'stats: %.2f, p: %.2f' %(stats, p))\n",
    "if p > 0.05:\n",
    "    print('Not Reject Hypothesis Null (NRH0)')\n",
    "else:\n",
    "    print('Reject Hypothesis Null (RH0)')\n"
   ]
  },
  {
   "cell_type": "markdown",
   "metadata": {},
   "source": [
    "    + The difference is so great between the medical costs paid by smokers and non-smokers that taking a sample of 100 observations to test our hypothesis is enough to reach the conclusion that, indeed, the medical costs between smokers and non-smokers are different."
   ]
  },
  {
   "cell_type": "markdown",
   "metadata": {},
   "source": [
    "\n",
    "## **EXERCISE 2**\n",
    "\n",
    "**STATEMENT:** Continue with the sports theme dataset you like and select two other attributes from the dataset. Calculate the p-values and say if they reject the null hypothesis by taking a 5% alpha."
   ]
  },
  {
   "cell_type": "markdown",
   "metadata": {},
   "source": [
    "    + In this exercise we want to study if the medical cost paid by women varies if they live in the northern or southern part of the country. For this we want to add two columns that will divide the observations depending on the region in which they live (north or south).\n",
    "\n",
    "+ $\\:H_0\\:$: medical cost of women in the north = medical cost of women in the south\n",
    "\n",
    " + $\\:H_A\\:$: medical cost of women in the north $\\neq$ medical cost of women in the south\n"
   ]
  },
  {
   "cell_type": "code",
   "execution_count": 1393,
   "metadata": {},
   "outputs": [],
   "source": [
    "# North Region\n",
    "\n",
    "conditionlist = [ (medical_cost['region'] == 'northwest'),(medical_cost['region'] == 'northeast')]\n",
    "choicelist = [1,1]\n",
    "medical_cost['north_region'] = np.select(conditionlist, choicelist)"
   ]
  },
  {
   "cell_type": "code",
   "execution_count": 1394,
   "metadata": {},
   "outputs": [],
   "source": [
    "# South Region\n",
    "\n",
    "conditionlist = [ (medical_cost['region'] == 'southwest'),(medical_cost['region'] == 'southeast')]\n",
    "choicelist = [1,1]\n",
    "medical_cost['south_region'] = np.select(conditionlist, choicelist)"
   ]
  },
  {
   "cell_type": "code",
   "execution_count": 1395,
   "metadata": {},
   "outputs": [
    {
     "data": {
      "text/html": [
       "<div>\n",
       "<style scoped>\n",
       "    .dataframe tbody tr th:only-of-type {\n",
       "        vertical-align: middle;\n",
       "    }\n",
       "\n",
       "    .dataframe tbody tr th {\n",
       "        vertical-align: top;\n",
       "    }\n",
       "\n",
       "    .dataframe thead th {\n",
       "        text-align: right;\n",
       "    }\n",
       "</style>\n",
       "<table border=\"1\" class=\"dataframe\">\n",
       "  <thead>\n",
       "    <tr style=\"text-align: right;\">\n",
       "      <th></th>\n",
       "      <th>age</th>\n",
       "      <th>sex</th>\n",
       "      <th>bmi</th>\n",
       "      <th>children</th>\n",
       "      <th>smoker</th>\n",
       "      <th>region</th>\n",
       "      <th>north_region</th>\n",
       "      <th>south_region</th>\n",
       "      <th>charges</th>\n",
       "    </tr>\n",
       "  </thead>\n",
       "  <tbody>\n",
       "    <tr>\n",
       "      <th>0</th>\n",
       "      <td>19</td>\n",
       "      <td>female</td>\n",
       "      <td>27.90</td>\n",
       "      <td>0</td>\n",
       "      <td>yes</td>\n",
       "      <td>southwest</td>\n",
       "      <td>0</td>\n",
       "      <td>1</td>\n",
       "      <td>16884.9240</td>\n",
       "    </tr>\n",
       "    <tr>\n",
       "      <th>1</th>\n",
       "      <td>18</td>\n",
       "      <td>male</td>\n",
       "      <td>33.77</td>\n",
       "      <td>1</td>\n",
       "      <td>no</td>\n",
       "      <td>southeast</td>\n",
       "      <td>0</td>\n",
       "      <td>1</td>\n",
       "      <td>1725.5523</td>\n",
       "    </tr>\n",
       "  </tbody>\n",
       "</table>\n",
       "</div>"
      ],
      "text/plain": [
       "   age     sex    bmi  children smoker     region  north_region  south_region  \\\n",
       "0   19  female  27.90         0    yes  southwest             0             1   \n",
       "1   18    male  33.77         1     no  southeast             0             1   \n",
       "\n",
       "      charges  \n",
       "0  16884.9240  \n",
       "1   1725.5523  "
      ]
     },
     "execution_count": 1395,
     "metadata": {},
     "output_type": "execute_result"
    }
   ],
   "source": [
    "# Move the columns to desired place\n",
    "medical_cost = medical_cost.reindex(columns= [ 'age', 'sex', 'bmi', 'children', 'smoker', 'region', 'north_region', 'south_region', 'charges' ])\n",
    "medical_cost.head(2)"
   ]
  },
  {
   "cell_type": "code",
   "execution_count": 1396,
   "metadata": {},
   "outputs": [
    {
     "data": {
      "image/png": "[encoded data removed]",
      "text/plain": [
       "<Figure size 432x288 with 1 Axes>"
      ]
     },
     "metadata": {
      "needs_background": "light"
     },
     "output_type": "display_data"
    }
   ],
   "source": [
    "# Women of the North Sample\n",
    "\n",
    "women_north_sample = medical_cost[(medical_cost['sex'] == 'female') & (medical_cost['north_region'] == 1)]\n",
    "sns.histplot(women_north_sample.charges, kde=True, color = 'gray')\n",
    "plt.show()"
   ]
  },
  {
   "cell_type": "code",
   "execution_count": 1397,
   "metadata": {},
   "outputs": [
    {
     "data": {
      "text/plain": [
       "(325, 9)"
      ]
     },
     "execution_count": 1397,
     "metadata": {},
     "output_type": "execute_result"
    }
   ],
   "source": [
    "women_north_sample.shape"
   ]
  },
  {
   "cell_type": "code",
   "execution_count": 1398,
   "metadata": {},
   "outputs": [
    {
     "name": "stdout",
     "output_type": "stream",
     "text": [
      "The medical cost of women living in the north is 12714.35 dolars\n"
     ]
    }
   ],
   "source": [
    "print(f'The medical cost of women living in the north is %.2f dolars'%(women_north_sample.charges.mean()))"
   ]
  },
  {
   "cell_type": "code",
   "execution_count": 1399,
   "metadata": {},
   "outputs": [
    {
     "data": {
      "image/png": "[encoded data removed]",
      "text/plain": [
       "<Figure size 432x288 with 1 Axes>"
      ]
     },
     "metadata": {
      "needs_background": "light"
     },
     "output_type": "display_data"
    }
   ],
   "source": [
    "# Women of the North Sample\n",
    "\n",
    "women_south_sample = medical_cost[(medical_cost['sex'] == 'female') & (medical_cost['south_region'] == 1)]\n",
    "sns.histplot(women_south_sample.charges, kde=True, color = 'gray')\n",
    "plt.show()"
   ]
  },
  {
   "cell_type": "code",
   "execution_count": 1400,
   "metadata": {},
   "outputs": [
    {
     "name": "stdout",
     "output_type": "stream",
     "text": [
      "The medical cost of women living in the south is 12429.96 dolars\n"
     ]
    }
   ],
   "source": [
    "print(f'The medical cost of women living in the south is %.2f dolars'%(women_south_sample.charges.mean()))"
   ]
  },
  {
   "cell_type": "code",
   "execution_count": 1401,
   "metadata": {},
   "outputs": [
    {
     "data": {
      "text/plain": [
       "(337, 9)"
      ]
     },
     "execution_count": 1401,
     "metadata": {},
     "output_type": "execute_result"
    }
   ],
   "source": [
    "women_south_sample.shape"
   ]
  },
  {
   "cell_type": "markdown",
   "metadata": {},
   "source": [
    "    + To use the hypothesis test ttest_rel() and see if the medical cost paid by women in the north is equal to the medical cost paid by women in the south of the country, we need the sample matrices to have the same shape."
   ]
  },
  {
   "cell_type": "code",
   "execution_count": 1402,
   "metadata": {},
   "outputs": [
    {
     "name": "stdout",
     "output_type": "stream",
     "text": [
      "stats: 0.33, p: 0.74\n",
      "Not Reject Hypothesis Null (NRH0)\n"
     ]
    }
   ],
   "source": [
    "# Statistics\n",
    "\n",
    "stats, p = ttest_ind(women_north_sample['charges'], women_south_sample['charges'])\n",
    "print(f'stats: %.2f, p: %.2f' %(stats, p))\n",
    "if p > 0.05:\n",
    "    print('Not Reject Hypothesis Null (NRH0)')\n",
    "else:\n",
    "    print('Reject Hypothesis Null (RH0)')"
   ]
  },
  {
   "cell_type": "markdown",
   "metadata": {},
   "source": [
    "    + We can conclude that due to a significance level of 5%, we cannot reject the null hypothesis that medical costs for women living in the north are the same as for women living in the south of the country."
   ]
  },
  {
   "cell_type": "markdown",
   "metadata": {},
   "source": [
    "\n",
    "## **EXERCISE 3**\n",
    "\n",
    "**STATEMENT:** Continue with the sports theme dataset you like and select three attributes from the dataset. Calculate the p-value and say if you reject the null hypothesis by taking a 5% alpha.\n",
    "\n",
    "    +Queremos conocer como afectan los costes médicos de las mujeres dependiendo si no tienen hijos, tienen un solo hijo o tienen 2 hijos\n",
    "\n",
    "+ $\\:H_0\\:$: The medical costs of women who have 0, 1 or 2 children are equals\n",
    "\n",
    " + $\\:H_A\\:$: The medical costs of women who have 0, 1 or 2 children are different"
   ]
  },
  {
   "cell_type": "code",
   "execution_count": 1403,
   "metadata": {},
   "outputs": [
    {
     "data": {
      "text/plain": [
       "children  sex   \n",
       "0         female    289\n",
       "          male      285\n",
       "1         female    158\n",
       "          male      166\n",
       "2         female    119\n",
       "          male      121\n",
       "3         female     77\n",
       "          male       80\n",
       "4         female     11\n",
       "          male       14\n",
       "5         female      8\n",
       "          male       10\n",
       "Name: sex, dtype: int64"
      ]
     },
     "execution_count": 1403,
     "metadata": {},
     "output_type": "execute_result"
    }
   ],
   "source": [
    "# Number of children per woman \n",
    "medical_cost.groupby(['children','sex'])['sex'].count()"
   ]
  },
  {
   "cell_type": "code",
   "execution_count": 1404,
   "metadata": {},
   "outputs": [],
   "source": [
    "# Females Without, One and Two Children. We do not samples because our dataframe has not many observations\n",
    "\n",
    "medical_cost_female_0 = medical_cost[(medical_cost.sex == 'female') & (medical_cost.children == 0)]\n",
    "medical_cost_female_1 = medical_cost[(medical_cost.sex == 'female') & (medical_cost.children == 1)]\n",
    "medical_cost_female_2 = medical_cost[(medical_cost.sex == 'female') & (medical_cost.children == 2)]"
   ]
  },
  {
   "cell_type": "code",
   "execution_count": 1405,
   "metadata": {},
   "outputs": [
    {
     "data": {
      "text/html": [
       "<div>\n",
       "<style scoped>\n",
       "    .dataframe tbody tr th:only-of-type {\n",
       "        vertical-align: middle;\n",
       "    }\n",
       "\n",
       "    .dataframe tbody tr th {\n",
       "        vertical-align: top;\n",
       "    }\n",
       "\n",
       "    .dataframe thead th {\n",
       "        text-align: right;\n",
       "    }\n",
       "</style>\n",
       "<table border=\"1\" class=\"dataframe\">\n",
       "  <thead>\n",
       "    <tr style=\"text-align: right;\">\n",
       "      <th></th>\n",
       "      <th>Sampling Means</th>\n",
       "    </tr>\n",
       "  </thead>\n",
       "  <tbody>\n",
       "    <tr>\n",
       "      <th>Medical Cost female 0 children</th>\n",
       "      <td>11905.71</td>\n",
       "    </tr>\n",
       "    <tr>\n",
       "      <th>Medical Cost female 1 children</th>\n",
       "      <td>12161.36</td>\n",
       "    </tr>\n",
       "    <tr>\n",
       "      <th>Medical Cost female 2 children</th>\n",
       "      <td>13941.32</td>\n",
       "    </tr>\n",
       "  </tbody>\n",
       "</table>\n",
       "</div>"
      ],
      "text/plain": [
       "                                Sampling Means\n",
       "Medical Cost female 0 children        11905.71\n",
       "Medical Cost female 1 children        12161.36\n",
       "Medical Cost female 2 children        13941.32"
      ]
     },
     "execution_count": 1405,
     "metadata": {},
     "output_type": "execute_result"
    }
   ],
   "source": [
    "# Sampling means\n",
    "\n",
    "sampling_means = {'Sampling Means': [round(medical_cost_female_0['charges'].mean(),2) , round(medical_cost_female_1['charges'].mean(),2) , round(medical_cost_female_2['charges'].mean(),2)]}\n",
    "\n",
    "\n",
    "# DataFrame\n",
    "sampling_means = pd.DataFrame(sampling_means, index=['Medical Cost female 0 children','Medical Cost female 1 children', 'Medical Cost female 2 children'])\n",
    "sampling_means"
   ]
  },
  {
   "cell_type": "code",
   "execution_count": 1406,
   "metadata": {},
   "outputs": [
    {
     "data": {
      "image/png": "[encoded data removed]",
      "text/plain": [
       "<Figure size 1080x360 with 1 Axes>"
      ]
     },
     "metadata": {
      "needs_background": "light"
     },
     "output_type": "display_data"
    }
   ],
   "source": [
    "# Histogram of medical costs of women who have 0, 1 or 2 children\n",
    "\n",
    "plt.figure(figsize=(15,5))                \n",
    "sns.histplot(x= medical_cost_female_0['charges'], color = 'tan', kde= True)\n",
    "sns.histplot(x= medical_cost_female_1['charges'], color = 'paleturquoise', kde= True)\n",
    "sns.histplot(x= medical_cost_female_2['charges'], color = 'mediumslateblue', kde= True)\n",
    "plt.title('Histogram of medical costs of women whit 0, 1 or 2 children')\n",
    "plt.xlabel('Medical Costs (dolars')\n",
    "plt.show()"
   ]
  },
  {
   "cell_type": "markdown",
   "metadata": {},
   "source": [
    "    + For this hypothesis we will use the ANOVA f_oneway () hypothesis test for two or more groups that have the same population mean. The test is applied to samples of two or more groups, possibly with different sizes."
   ]
  },
  {
   "cell_type": "code",
   "execution_count": 1407,
   "metadata": {},
   "outputs": [
    {
     "name": "stdout",
     "output_type": "stream",
     "text": [
      "stats: 1.41, p: 0.25\n",
      "Not Reject Hypothesis Null (NRH0)\n"
     ]
    }
   ],
   "source": [
    "# Statistics\n",
    "\n",
    "stats, p = f_oneway(medical_cost_female_0['charges'], medical_cost_female_1['charges'], medical_cost_female_2['charges'])\n",
    "print(f'stats: %.2f, p: %.2f' %(stats, p))\n",
    "if p > 0.05:\n",
    "    print('Not Reject Hypothesis Null (NRH0)')\n",
    "else:\n",
    "    print('Reject Hypothesis Null (RH0)')"
   ]
  },
  {
   "cell_type": "markdown",
   "metadata": {},
   "source": [
    "    + We can conclude that we cannot reject the null hypothesis that women's medical costs are different if they do not have children, one child or two children."
   ]
  }
 ],
 "metadata": {
  "interpreter": {
   "hash": "7812ea015bdcee6f23a998adcdd2ef97c151c0c241b7b7070987d9313e41299d"
  },
  "kernelspec": {
   "display_name": "",
   "language": "python",
   "name": "python3"
  },
  "language_info": {
   "codemirror_mode": {
    "name": "ipython",
    "version": 3
   },
   "file_extension": ".py",
   "mimetype": "text/x-python",
   "name": "python",
   "nbconvert_exporter": "python",
   "pygments_lexer": "ipython3",
   "version": "3.8.8"
  },
  "orig_nbformat": 4
 },
 "nbformat": 4,
 "nbformat_minor": 2
}
